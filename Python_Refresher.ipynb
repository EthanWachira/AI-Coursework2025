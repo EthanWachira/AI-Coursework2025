{
 "cells": [
  {
   "cell_type": "code",
   "execution_count": null,
   "id": "0f5bf83c-6bab-40df-b03a-450a102ddd56",
   "metadata": {},
   "outputs": [],
   "source": [
    "# Question 1\n",
    "days = int(input(\"Enter number of days: \"))\n",
    "seconds = days * 24 * 3600\n",
    "print(f\"{days} day(s) is equal to {seconds} seconds.\")"
   ]
  },
  {
   "cell_type": "code",
   "execution_count": null,
   "id": "dfcb3631-da70-4a7d-b23c-684f30d6aa4c",
   "metadata": {},
   "outputs": [],
   "source": [
    "# Question 2\n",
    "import math\n",
    "radius = float(input(\"Enter the radius of the sphere: \"))\n",
    "volume = (4/3) * math.pi * (radius **3)\n",
    "print(f\"The volume of the sphere is {volume:.2f}\")"
   ]
  },
  {
   "cell_type": "code",
   "execution_count": null,
   "id": "837309d0-8f2e-4c71-a921-136a0f35f765",
   "metadata": {},
   "outputs": [],
   "source": [
    "# Question 3\n",
    "def calculate_area(side_length):\n",
    "    return side_length * side_length\n",
    "def calculate_perimeter(side_length):\n",
    "    return 4 * side_length\n",
    "side = float(input(\"Enter the side length of the square: \"))\n",
    "area = calculate_area(side)\n",
    "perimeter = calculate_perimeter(side)\n",
    "print(f\"Area of the square: {area}\")\n",
    "print(f\"Perimeter of the square: {perimeter}\")"
   ]
  },
  {
   "cell_type": "code",
   "execution_count": null,
   "id": "fb287b4a-00a1-43e1-b971-b68a8abcf7e8",
   "metadata": {},
   "outputs": [],
   "source": [
    "# Question 4\n",
    "def check_character_case(char):\n",
    "    if char.isupper():\n",
    "        return \"Uppercase\"\n",
    "    elif char.islower():\n",
    "        return \"Lowercase\"\n",
    "    else:\n",
    "        return \"Not valid\"\n",
    "user_input = input(\"Enter a single character: \")\n",
    "result = check_character_case(user_input)\n",
    "print(f\"The character '{user_input}' is {result}.\")"
   ]
  },
  {
   "cell_type": "code",
   "execution_count": null,
   "id": "8439a4d2-d8ca-49e1-8cb8-0c390aad4526",
   "metadata": {},
   "outputs": [],
   "source": [
    "# Question 5s\n",
    "x = 0\n",
    "y = 20\n",
    "while y >= 6:\n",
    "             y = y - 4          \n",
    "             x = x + (2 / y)    \n",
    "print(f\"The final value of x is: {x}\")\n"
   ]
  },
  {
   "cell_type": "code",
   "execution_count": null,
   "id": "b9621ff6-84d6-44d0-beb6-a53d972f8f78",
   "metadata": {},
   "outputs": [],
   "source": [
    "#Question 6\n",
    "values = []\n",
    "for i in range(5):\n",
    "    number = float(input(f\"Enter value {i+1}: \"))\n",
    "    values.append(number)  # Add the number to the list\n",
    "average = sum(values) / len(values)\n",
    "print(f\"The average of the entered values is: {average}\")\n"
   ]
  },
  {
   "cell_type": "code",
   "execution_count": null,
   "id": "7895a6f9-6f9f-496a-9a5d-321549c16cb3",
   "metadata": {},
   "outputs": [],
   "source": []
  }
 ],
 "metadata": {
  "kernelspec": {
   "display_name": "Python 3 (ipykernel)",
   "language": "python",
   "name": "python3"
  },
  "language_info": {
   "codemirror_mode": {
    "name": "ipython",
    "version": 3
   },
   "file_extension": ".py",
   "mimetype": "text/x-python",
   "name": "python",
   "nbconvert_exporter": "python",
   "pygments_lexer": "ipython3",
   "version": "3.13.5"
  }
 },
 "nbformat": 4,
 "nbformat_minor": 5
}
